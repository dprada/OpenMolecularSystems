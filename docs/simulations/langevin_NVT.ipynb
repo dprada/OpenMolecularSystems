{
 "cells": [
  {
   "cell_type": "code",
   "execution_count": 5,
   "metadata": {},
   "outputs": [],
   "source": [
    "import numpy as np\n",
    "import matplotlib.pyplot as plt\n",
    "from simtk import unit"
   ]
  },
  {
   "cell_type": "markdown",
   "metadata": {},
   "source": [
    "# Langevin NVT\n",
    "\n",
    "To easily run tests with langevin dynamics, the method `simulations.langevin_NVT` provides a simple interface. Let's first of all see a simple example on how to use it:"
   ]
  },
  {
   "cell_type": "code",
   "execution_count": 15,
   "metadata": {},
   "outputs": [],
   "source": [
    "from uibcdf_test_systems.simulation import langevin_NVT\n",
    "from uibcdf_test_systems import FreeParticle\n",
    "\n",
    "free_particle = FreeParticle(n_particles=1, mass=10*unit.amu)\n",
    "\n",
    "initial_positions = np.zeros((1,3),dtype=float)*unit.nanometers\n",
    "initial_velocities = np.zeros((1,3),dtype=float)*unit.nanometers/unit.picometers\n",
    "\n",
    "time, position, velocity, kinetic_energy, potential_energy = langevin_NVT(system=free_particle.system, temperature=300*unit.kelvin,\n",
    "                                                                         friction=1.0/unit.picoseconds, initial_positions=initial_positions,\n",
    "                                                                         initial_velocities=initial_velocities, integration_timestep=0.1*unit.picoseconds,\n",
    "                                                                         saving_timestep=1.0*unit.picoseconds, total_time=0.5*unit.nanoseconds)\n"
   ]
  },
  {
   "cell_type": "markdown",
   "metadata": {},
   "source": [
    "Every method in the module `simulation` has at least five possible output arguments: `time`, `position`, `velocity`, `kinetic_energy` and `potential_energy`."
   ]
  },
  {
   "cell_type": "code",
   "execution_count": 16,
   "metadata": {},
   "outputs": [
    {
     "data": {
      "text/plain": [
       "[<matplotlib.lines.Line2D at 0x7f99ed7e7650>]"
      ]
     },
     "execution_count": 16,
     "metadata": {},
     "output_type": "execute_result"
    },
    {
     "data": {
      "image/png": "[encoded data removed]",
      "text/plain": [
       "<Figure size 432x288 with 1 Axes>"
      ]
     },
     "metadata": {
      "needs_background": "light"
     },
     "output_type": "display_data"
    }
   ],
   "source": [
    "plt.plot(time, position[:,0,0])"
   ]
  },
  {
   "cell_type": "code",
   "execution_count": null,
   "metadata": {},
   "outputs": [],
   "source": [
    "# %load ../../uibcdf_test_systems/simulation/langevin_NVT.py\n",
    "\n",
    "def langevin_NVT(system, temperature=None, friction=None,\n",
    "                 initial_positions=None, initial_velocities=None, integration_timestep=None,\n",
    "                 saving_timestep=None, total_time=None, platform_name='CPU', verbose=True):\n",
    "\n",
    "\n",
    "    from simtk.openmm import LangevinIntegrator, Platform, Context\n",
    "    from simtk import unit\n",
    "    import numpy as np\n",
    "\n",
    "    # System parameters.\n",
    "    n_particles = system.getNumParticles()\n",
    "\n",
    "    # Integration parameters.\n",
    "\n",
    "    steps_per_cicle = int(round(saving_timestep/integration_timestep))\n",
    "    n_steps = int(round(total_time/integration_timestep))\n",
    "    n_cicles = int(round(n_steps/steps_per_cicle))\n",
    "\n",
    "    # Integrator.\n",
    "\n",
    "    integrator = LangevinIntegrator(temperature, friction, integration_timestep)\n",
    "\n",
    "    # Platform.\n",
    "\n",
    "    platform = Platform.getPlatformByName(platform_name)\n",
    "\n",
    "    # Context.\n",
    "\n",
    "    context = Context(system, integrator, platform)\n",
    "    context.setPositions(initial_positions)\n",
    "    context.setVelocities(initial_velocities)\n",
    "\n",
    "    # Reporter arrays: time, position, velocity, kinetic_energy, potential_energy\n",
    "\n",
    "    time = np.zeros([n_cicles], np.float32) * unit.picoseconds\n",
    "    position = np.zeros([n_cicles, n_particles, 3], np.float32) * unit.nanometers\n",
    "    velocity = np.zeros([n_cicles, n_particles, 3], np.float32) * unit.nanometers/unit.picosecond\n",
    "    kinetic_energy = np.zeros([n_cicles, n_particles, 3], np.float32) * unit.kilocalories_per_mole\n",
    "    potential_energy = np.zeros([n_cicles, n_particles, 3], np.float32) * unit.kilocalories_per_mole\n",
    "\n",
    "    # Initial context in reporters\n",
    "\n",
    "    state = context.getState(getPositions=True, getVelocities=True, getEnergy=True)\n",
    "    time[0] = state.getTime()\n",
    "    position[0] = state.getPositions()\n",
    "    velocity[0] = state.getVelocities()\n",
    "    kinetic_energy[0] = state.getKineticEnergy()\n",
    "    potential_energy[0] = state.getPotentialEnergy()\n",
    "\n",
    "    # Integration loop saving every cicle steps\n",
    "\n",
    "    for ii in range(1, n_cicles):\n",
    "        context.getIntegrator().step(steps_per_cicle)\n",
    "        state = context.getState(getPositions=True, getVelocities=True, getEnergy=True)\n",
    "        time[ii] = state.getTime()\n",
    "        position[ii] = state.getPositions()\n",
    "        velocity[ii] = state.getVelocities()\n",
    "        kinetic_energy[ii] = state.getKineticEnergy()\n",
    "        potential_energy[ii] = state.getPotentialEnergy()\n",
    "\n",
    "    return time, position, velocity, kinetic_energy, potential_energy\n"
   ]
  },
  {
   "cell_type": "code",
   "execution_count": null,
   "metadata": {},
   "outputs": [],
   "source": []
  }
 ],
 "metadata": {
  "kernelspec": {
   "display_name": "Python 3",
   "language": "python",
   "name": "python3"
  },
  "language_info": {
   "codemirror_mode": {
    "name": "ipython",
    "version": 3
   },
   "file_extension": ".py",
   "mimetype": "text/x-python",
   "name": "python",
   "nbconvert_exporter": "python",
   "pygments_lexer": "ipython3",
   "version": "3.7.4"
  }
 },
 "nbformat": 4,
 "nbformat_minor": 4
}
