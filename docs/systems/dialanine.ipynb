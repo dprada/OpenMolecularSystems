{
 "cells": [
  {
   "cell_type": "code",
   "execution_count": 1,
   "metadata": {},
   "outputs": [],
   "source": [
    "%load_ext autoreload\n",
    "%autoreload 2"
   ]
  },
  {
   "cell_type": "code",
   "execution_count": 2,
   "metadata": {},
   "outputs": [],
   "source": [
    "import simtk.unit as unit"
   ]
  },
  {
   "cell_type": "markdown",
   "metadata": {},
   "source": [
    "# Alanine dipeptide"
   ]
  },
  {
   "cell_type": "markdown",
   "metadata": {},
   "source": [
    "## Alanine dipeptide in vacuum"
   ]
  },
  {
   "cell_type": "code",
   "execution_count": 3,
   "metadata": {},
   "outputs": [],
   "source": [
    "from uibcdf_test_systems.systems import AlanineDipeptideVacuum\n",
    "from uibcdf_test_systems.simulation import langevin_NVT"
   ]
  },
  {
   "cell_type": "code",
   "execution_count": 4,
   "metadata": {},
   "outputs": [],
   "source": [
    "dialanine=AlanineDipeptideVacuum()"
   ]
  },
  {
   "cell_type": "code",
   "execution_count": 5,
   "metadata": {},
   "outputs": [
    {
     "name": "stderr",
     "output_type": "stream",
     "text": [
      "100%|██████████| 99/99 [00:00<00:00, 164.52it/s]\n"
     ]
    }
   ],
   "source": [
    "time, position, velocity, kinetic_energy, potential_energy = langevin_NVT (dialanine.system,\n",
    "                                                                           temperature = 300 * unit.kelvin,\n",
    "                                                                           friction = 1.0 / unit.picoseconds,\n",
    "                                                                           initial_positions = dialanine.positions,\n",
    "                                                                           integration_timestep = 0.02 * unit.picoseconds,\n",
    "                                                                           saving_timestep = 1.0 * unit.picoseconds,\n",
    "                                                                           total_time = 0.1 * unit.nanoseconds)"
   ]
  },
  {
   "cell_type": "code",
   "execution_count": null,
   "metadata": {},
   "outputs": [],
   "source": [
    "plt.plot(time, position[:,0,0])\n",
    "plt.xlabel('time ({})'.format(time.unit))\n",
    "plt.ylabel('X ({})'.format(position.unit))\n",
    "plt.show()"
   ]
  },
  {
   "cell_type": "markdown",
   "metadata": {},
   "source": [
    "## Alanine dipeptide in implicit solvent"
   ]
  },
  {
   "cell_type": "code",
   "execution_count": null,
   "metadata": {},
   "outputs": [],
   "source": [
    "from uibcdf_test_systems.systems import AlanineDipeptideImplicitSolvent"
   ]
  },
  {
   "cell_type": "code",
   "execution_count": null,
   "metadata": {},
   "outputs": [],
   "source": [
    "dialanine=AlanineDipeptideImplicitSolvent()"
   ]
  },
  {
   "cell_type": "markdown",
   "metadata": {},
   "source": [
    "## Alanine dipeptide in explicit solvent"
   ]
  },
  {
   "cell_type": "code",
   "execution_count": null,
   "metadata": {},
   "outputs": [],
   "source": [
    "from uibcdf_test_systems.systems import AlanineDipeptideExplicitSolvent"
   ]
  },
  {
   "cell_type": "code",
   "execution_count": null,
   "metadata": {},
   "outputs": [],
   "source": [
    "dialanine=AlanineDipeptideExplicitSolvent()"
   ]
  },
  {
   "cell_type": "code",
   "execution_count": null,
   "metadata": {},
   "outputs": [],
   "source": []
  }
 ],
 "metadata": {
  "kernelspec": {
   "display_name": "Python 3",
   "language": "python",
   "name": "python3"
  },
  "language_info": {
   "codemirror_mode": {
    "name": "ipython",
    "version": 3
   },
   "file_extension": ".py",
   "mimetype": "text/x-python",
   "name": "python",
   "nbconvert_exporter": "python",
   "pygments_lexer": "ipython3",
   "version": "3.7.7"
  }
 },
 "nbformat": 4,
 "nbformat_minor": 4
}
