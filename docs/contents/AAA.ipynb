{
 "cells": [
  {
   "cell_type": "markdown",
   "metadata": {},
   "source": [
    "# Prueba"
   ]
  },
  {
   "cell_type": "markdown",
   "metadata": {},
   "source": [
    "Esto es una prueba <cite data-cite=\"Berendsen1981\">xx</cite>."
   ]
  },
  {
   "cell_type": "markdown",
   "metadata": {},
   "source": [
    "# Water Models\n",
    "\n",
    "| Name | Keyword | Description |\n",
    "| ---- | ------- | ----------- |\n",
    "| SPC | 'SPC' | Single Point Charge model |\n",
    "| SPC/E | 'SPC/E' | Buah <cite data-cite=\"Berendsen1981\">xx</cite> |\n",
    "| TIP3P | 'TIP3P' | TIP3P water model |\n"
   ]
  },
  {
   "cell_type": "markdown",
   "metadata": {},
   "source": [
    "asdfsdf <cite data-cite=\"Berendsen1981\">xx</cite>."
   ]
  },
  {
   "cell_type": "code",
   "execution_count": null,
   "metadata": {},
   "outputs": [],
   "source": []
  }
 ],
 "metadata": {
  "kernelspec": {
   "display_name": "Python 3",
   "language": "python",
   "name": "python3"
  },
  "language_info": {
   "codemirror_mode": {
    "name": "ipython",
    "version": 3
   },
   "file_extension": ".py",
   "mimetype": "text/x-python",
   "name": "python",
   "nbconvert_exporter": "python",
   "pygments_lexer": "ipython3",
   "version": "3.7.9"
  }
 },
 "nbformat": 4,
 "nbformat_minor": 4
}
