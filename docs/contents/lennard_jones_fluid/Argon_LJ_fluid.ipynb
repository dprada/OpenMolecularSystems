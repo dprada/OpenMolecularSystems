{
 "cells": [
  {
   "cell_type": "code",
   "execution_count": 1,
   "metadata": {},
   "outputs": [],
   "source": [
    "import numpy as np\n",
    "import matplotlib.pyplot as plt\n",
    "import sympy as sy\n",
    "import simtk.unit as unit\n",
    "from simtk import openmm as mm\n",
    "from simtk.openmm import app\n",
    "import skopt as skopt\n",
    "from tqdm import tqdm"
   ]
  },
  {
   "cell_type": "markdown",
   "metadata": {},
   "source": [
    "# 3D Liquid Argon model"
   ]
  },
  {
   "cell_type": "code",
   "execution_count": 2,
   "metadata": {},
   "outputs": [],
   "source": [
    "n_particles = 1000\n",
    "reduced_density = 0.75\n",
    "mass = 39.948 * unit.amu\n",
    "sigma = 3.404 * unit.angstroms\n",
    "epsilon = 0.238 * unit.kilocalories_per_mole\n",
    "charge = 0.0 * unit.elementary_charge\n",
    "\n",
    "temperature = 300.0 * unit.kelvin\n",
    "\n",
    "integration_timestep = 0.01 * unit.picoseconds # 2 Ar particles small oscillations period: 1.27 ps\n",
    "collisions_rate = 1.0 / unit.picoseconds\n",
    "\n",
    "equilibration_time = 1.0 * unit.nanoseconds\n",
    "\n",
    "production_time = 10.0 * unit.nanoseconds\n",
    "saving_time = 20.0 * unit.picoseconds\n",
    "\n",
    "equilibration_n_steps = round(equilibration_time/integration_timestep)"
   ]
  },
  {
   "cell_type": "markdown",
   "metadata": {},
   "source": [
    "The Van der Waals radius of Argon is 1.88 angstroms."
   ]
  },
  {
   "cell_type": "code",
   "execution_count": 3,
   "metadata": {},
   "outputs": [
    {
     "name": "stdout",
     "output_type": "stream",
     "text": [
      "1.9104304062225528 A\n"
     ]
    }
   ],
   "source": [
    "radius = 2.0**(-5/6) * sigma\n",
    "print(radius)"
   ]
  },
  {
   "cell_type": "code",
   "execution_count": 4,
   "metadata": {},
   "outputs": [
    {
     "name": "stdout",
     "output_type": "stream",
     "text": [
      "Side of the box: 37.46586785079102 A\n"
     ]
    }
   ],
   "source": [
    "volume_particles = n_particles * sigma**3\n",
    "volume = volume_particles/reduced_density\n",
    "l_box = volume**(1/3)\n",
    "\n",
    "print('Side of the box: {}'.format(l_box))"
   ]
  },
  {
   "cell_type": "code",
   "execution_count": null,
   "metadata": {},
   "outputs": [],
   "source": [
    "system = mm.System()"
   ]
  },
  {
   "cell_type": "code",
   "execution_count": null,
   "metadata": {},
   "outputs": [],
   "source": [
    "v1 = np.zeros(3) * unit.angstroms\n",
    "v2 = np.zeros(3) * unit.angstroms\n",
    "v3 = np.zeros(3) * unit.angstroms\n",
    "\n",
    "v1[0] = l_box\n",
    "v2[1] = l_box\n",
    "v3[2] = l_box\n",
    "\n",
    "system.setDefaultPeriodicBoxVectors(v1, v2, v3)"
   ]
  },
  {
   "cell_type": "code",
   "execution_count": null,
   "metadata": {},
   "outputs": [],
   "source": [
    "non_bonded_force = mm.NonbondedForce()\n",
    "non_bonded_force.setNonbondedMethod(mm.NonbondedForce.CutoffPeriodic)\n",
    "non_bonded_force.setCutoffDistance(3.0*sigma)\n",
    "non_bonded_force.setUseSwitchingFunction(True)\n",
    "non_bonded_force.setSwitchingDistance(2.0*sigma)\n",
    "non_bonded_force.setUseDispersionCorrection(True)"
   ]
  },
  {
   "cell_type": "code",
   "execution_count": null,
   "metadata": {},
   "outputs": [],
   "source": [
    "for _ in range(n_particles):\n",
    "    system.addParticle(mass)\n",
    "    non_bonded_force.addParticle(charge, sigma, epsilon)"
   ]
  },
  {
   "cell_type": "code",
   "execution_count": null,
   "metadata": {},
   "outputs": [],
   "source": [
    "_ = system.addForce(non_bonded_force)"
   ]
  },
  {
   "cell_type": "code",
   "execution_count": null,
   "metadata": {},
   "outputs": [],
   "source": [
    "integrator = mm.LangevinIntegrator(temperature, collisions_rate, integration_timestep)\n",
    "platform = mm.Platform.getPlatformByName('CUDA')\n",
    "context = mm.Context(system, integrator, platform)"
   ]
  },
  {
   "cell_type": "code",
   "execution_count": null,
   "metadata": {},
   "outputs": [],
   "source": [
    "space = skopt.Space([[0.0, l_box._value], [0.0, l_box._value], [0.0, l_box._value]])\n",
    "grid_generator = skopt.sampler.Grid(use_full_layout=False)\n",
    "initial_positions = grid_generator.generate(space.dimensions, n_particles)\n",
    "initial_positions = np.array(initial_positions)*unit.angstroms"
   ]
  },
  {
   "cell_type": "code",
   "execution_count": null,
   "metadata": {},
   "outputs": [],
   "source": [
    "context.setPositions(initial_positions)\n",
    "context.setVelocitiesToTemperature(temperature)"
   ]
  },
  {
   "cell_type": "code",
   "execution_count": null,
   "metadata": {},
   "outputs": [],
   "source": [
    "state=context.getState(getEnergy=True)\n",
    "print(\"Before minimization: {}\".format(state.getPotentialEnergy()))\n",
    "mm.LocalEnergyMinimizer_minimize(context)\n",
    "state=context.getState(getEnergy=True)\n",
    "print(\"After minimization: {}\".format(state.getPotentialEnergy()))"
   ]
  },
  {
   "cell_type": "code",
   "execution_count": null,
   "metadata": {},
   "outputs": [],
   "source": [
    "equilibration_n_steps = round(equilibration_time/integration_timestep)\n",
    "integrator.step(equilibration_n_steps)\n",
    "context.setTime(0.0*unit.picoseconds)"
   ]
  },
  {
   "cell_type": "code",
   "execution_count": null,
   "metadata": {},
   "outputs": [],
   "source": [
    "production_n_steps = int(production_time/integration_timestep)\n",
    "saving_n_steps = int(saving_time/integration_timestep)\n",
    "n_saving_periods = int(production_n_steps/saving_n_steps)\n",
    "\n",
    "time = np.zeros([n_saving_periods]) * unit.nanoseconds\n",
    "trajectory = np.zeros([n_saving_periods, n_particles, 3]) * unit.angstroms\n",
    "potential_energy = np.zeros([n_saving_periods]) * unit.kilocalories_per_mole\n",
    "\n",
    "for ii in tqdm(range(n_saving_periods)):\n",
    "    integrator.step(saving_n_steps)\n",
    "    #remove enforcePeriodicBox to get unwrapped trajectories\n",
    "    state = context.getState(getPositions=True, getEnergy=True, enforcePeriodicBox = False)\n",
    "    time[ii] = state.getTime()\n",
    "    trajectory[ii,:,:] = state.getPositions(asNumpy=True)\n",
    "    potential_energy = state.getPotentialEnergy()"
   ]
  },
  {
   "cell_type": "code",
   "execution_count": null,
   "metadata": {},
   "outputs": [],
   "source": [
    "trajectory_mem = trajectory.size * trajectory.itemsize * unit.bytes\n",
    "print('Trajectory size: {} MB'.format(trajectory_mem._value/(1024*1024)))"
   ]
  },
  {
   "cell_type": "code",
   "execution_count": null,
   "metadata": {},
   "outputs": [],
   "source": [
    "trajectory.max()"
   ]
  },
  {
   "cell_type": "code",
   "execution_count": null,
   "metadata": {},
   "outputs": [],
   "source": [
    "plt.plot(time, trajectory[:,0,0])\n",
    "plt.plot(time, trajectory[:,0,1])\n",
    "plt.plot(time, trajectory[:,0,2])\n",
    "plt.plot(time, trajectory[:,100,0])\n",
    "plt.plot(time, trajectory[:,100,1])\n",
    "plt.plot(time, trajectory[:,100,2])"
   ]
  },
  {
   "cell_type": "markdown",
   "metadata": {},
   "source": [
    "- Calcular difusion de las partículas\n",
    "- Calcular RDF\n",
    "- Energy\n",
    "- Sensibilidad frente a integration_timestep\n",
    "- Cuando converge\n",
    "- Empezar con una grid (muy fuera del equilibrio)... cuando tengo una estructura más equilibrada?\n",
    "- Empezar con otro tipo de distribución aleatoria o quasi-aleatoria y ver si converge más rapidamente.\n",
    "- Aplicar barostato\n",
    "- Cambiar el integrador, de langevin a verlet por ejemplo, la termodinámica converge antes?\n",
    "- Sacar magnitudes de equilibrio haciendo montecarlo"
   ]
  },
  {
   "cell_type": "code",
   "execution_count": null,
   "metadata": {},
   "outputs": [],
   "source": []
  }
 ],
 "metadata": {
  "kernelspec": {
   "display_name": "Python 3",
   "language": "python",
   "name": "python3"
  },
  "language_info": {
   "codemirror_mode": {
    "name": "ipython",
    "version": 3
   },
   "file_extension": ".py",
   "mimetype": "text/x-python",
   "name": "python",
   "nbconvert_exporter": "python",
   "pygments_lexer": "ipython3",
   "version": "3.7.9"
  }
 },
 "nbformat": 4,
 "nbformat_minor": 4
}
