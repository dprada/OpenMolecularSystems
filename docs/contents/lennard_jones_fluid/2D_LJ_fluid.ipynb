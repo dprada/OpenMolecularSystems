{
 "cells": [
  {
   "cell_type": "code",
   "execution_count": 1,
   "metadata": {},
   "outputs": [],
   "source": [
    "import numpy as np\n",
    "import matplotlib.pyplot as plt\n",
    "from matplotlib.patches import Circle\n",
    "from matplotlib.collections import PatchCollection\n",
    "import matplotlib.animation as animation\n",
    "import sympy as sy\n",
    "import simtk.unit as unit\n",
    "from simtk import openmm as mm\n",
    "from simtk.openmm import app\n",
    "import skopt as skopt\n",
    "from tqdm import tqdm"
   ]
  },
  {
   "cell_type": "markdown",
   "metadata": {},
   "source": [
    "# 2D Lennard-Jones fluid"
   ]
  },
  {
   "cell_type": "code",
   "execution_count": 2,
   "metadata": {},
   "outputs": [],
   "source": [
    "mass = 39.948 * unit.amu\n",
    "sigma = 3.404 * unit.angstroms\n",
    "epsilon = 0.238 * unit.kilocalories_per_mole\n",
    "charge = 0.0 * unit.elementary_charge\n",
    "\n",
    "n_particles = 1\n",
    "reduced_density = 0.15\n",
    "l_box = 400.0 * unit.angstroms"
   ]
  },
  {
   "cell_type": "code",
   "execution_count": 3,
   "metadata": {},
   "outputs": [],
   "source": [
    "temperature = 300.00 * unit.kelvin\n",
    "integration_timestep = 0.002 * unit.picoseconds\n",
    "collisions_rate = 1.0 / unit.picoseconds\n",
    "\n",
    "equilibration_time = 0.5 * unit.nanoseconds\n",
    "production_time = 0.10 * unit.nanoseconds\n",
    "saving_time = 0.1 * unit.picoseconds\n",
    "\n",
    "equilibration_n_steps = round(equilibration_time/integration_timestep)"
   ]
  },
  {
   "cell_type": "code",
   "execution_count": 4,
   "metadata": {},
   "outputs": [
    {
     "name": "stdout",
     "output_type": "stream",
     "text": [
      "1.9104304062225528 A\n"
     ]
    }
   ],
   "source": [
    "radius = 2.0**(-5/6) * sigma\n",
    "print(radius)"
   ]
  },
  {
   "cell_type": "code",
   "execution_count": 5,
   "metadata": {},
   "outputs": [
    {
     "name": "stdout",
     "output_type": "stream",
     "text": [
      "Reduced density: 7.166256247913711e-05\n"
     ]
    }
   ],
   "source": [
    "if l_box is None:\n",
    "    area_particles = n_particles*np.pi*radius**2\n",
    "    area = area_particles/reduced_density\n",
    "    l_box = area**(1/2)\n",
    "    print('Side of the box: {}'.format(l_box))\n",
    "else:\n",
    "    area_particles = n_particles*np.pi*radius**2\n",
    "    area = l_box**2\n",
    "    reduced_density = area_particles/area\n",
    "    print('Reduced density: {}'.format(reduced_density))"
   ]
  },
  {
   "cell_type": "code",
   "execution_count": 6,
   "metadata": {},
   "outputs": [],
   "source": [
    "space = skopt.Space([[0.0, l_box._value], [0.0, l_box._value]])\n",
    "#generator = skopt.sampler.Grid(use_full_layout=False)\n",
    "generator = skopt.sampler.Lhs(criterion=\"maximin\", iterations=10000)\n",
    "positions_2d = generator.generate(space.dimensions, n_particles)\n",
    "positions_2d = np.array(positions_2d)*unit.angstroms"
   ]
  },
  {
   "cell_type": "code",
   "execution_count": 7,
   "metadata": {},
   "outputs": [
    {
     "data": {
      "image/png": "[encoded data removed]",
      "text/plain": [
       "<Figure size 432x288 with 1 Axes>"
      ]
     },
     "metadata": {
      "needs_background": "light"
     },
     "output_type": "display_data"
    }
   ],
   "source": [
    "ax = plt.subplot(aspect='equal')\n",
    "\n",
    "patches=[]\n",
    "for ii in range(n_particles):\n",
    "    patches.append(Circle(positions_2d[ii,:]._value, radius._value))\n",
    "\n",
    "p = PatchCollection(patches, alpha=0.5)\n",
    "ax.add_collection(p)\n",
    "\n",
    "ax.set_title(\"Initial positions\")\n",
    "ax.set_xlim([0.0, l_box._value])\n",
    "ax.set_ylim([0.0, l_box._value])\n",
    "plt.show()"
   ]
  },
  {
   "cell_type": "code",
   "execution_count": 8,
   "metadata": {},
   "outputs": [],
   "source": [
    "system = mm.System()\n",
    "\n",
    "for _ in range(n_particles):\n",
    "    system.addParticle(mass)"
   ]
  },
  {
   "cell_type": "code",
   "execution_count": 9,
   "metadata": {},
   "outputs": [],
   "source": [
    "v1 = np.zeros(3) * unit.angstroms\n",
    "v2 = np.zeros(3) * unit.angstroms\n",
    "v3 = np.zeros(3) * unit.angstroms\n",
    "\n",
    "v1[0] = l_box\n",
    "v2[1] = l_box\n",
    "v3[2] = l_box\n",
    "\n",
    "system.setDefaultPeriodicBoxVectors(v1, v2, v3)"
   ]
  },
  {
   "cell_type": "code",
   "execution_count": 10,
   "metadata": {},
   "outputs": [],
   "source": [
    "non_bonded_force = mm.NonbondedForce()\n",
    "non_bonded_force.setNonbondedMethod(mm.NonbondedForce.CutoffPeriodic)\n",
    "non_bonded_force.setCutoffDistance(3.0*sigma)\n",
    "non_bonded_force.setUseSwitchingFunction(True)\n",
    "non_bonded_force.setSwitchingDistance(2.0*sigma)\n",
    "non_bonded_force.setUseDispersionCorrection(True)\n",
    "\n",
    "for _ in range(n_particles):\n",
    "    non_bonded_force.addParticle(charge, sigma, epsilon)\n",
    "\n",
    "_ = system.addForce(non_bonded_force)"
   ]
  },
  {
   "cell_type": "code",
   "execution_count": 11,
   "metadata": {},
   "outputs": [],
   "source": [
    "armonic_force = mm.CustomExternalForce('A*(z^2)')\n",
    "k=1.0*unit.kilocalories_per_mole/unit.nanometers**2\n",
    "armonic_force.addGlobalParameter('A', 0.5*k)\n",
    "for ii in range(n_particles):\n",
    "    armonic_force.addParticle(ii, [])\n",
    "_ = system.addForce(armonic_force)"
   ]
  },
  {
   "cell_type": "code",
   "execution_count": 12,
   "metadata": {},
   "outputs": [],
   "source": [
    "integrator = mm.LangevinIntegrator(temperature, collisions_rate, integration_timestep)\n",
    "platform = mm.Platform.getPlatformByName('CUDA')\n",
    "context = mm.Context(system, integrator, platform)"
   ]
  },
  {
   "cell_type": "code",
   "execution_count": 13,
   "metadata": {},
   "outputs": [],
   "source": [
    "initial_positions=np.zeros([n_particles,3])*unit.angstroms\n",
    "initial_positions[:,0:2]=positions_2d[:,:]\n",
    "\n",
    "initial_velocities=np.zeros([n_particles,3])*unit.angstroms/unit.picoseconds\n",
    "\n",
    "context.setPositions(initial_positions)\n",
    "context.setVelocities(initial_velocities)\n",
    "#context.setVelocitiesToTemperature(temperature)"
   ]
  },
  {
   "cell_type": "code",
   "execution_count": 14,
   "metadata": {},
   "outputs": [
    {
     "name": "stdout",
     "output_type": "stream",
     "text": [
      "Before minimization: -3.401325030358018e-07 kJ/mol\n",
      "After minimization: -3.401325030358018e-07 kJ/mol\n"
     ]
    }
   ],
   "source": [
    "state=context.getState(getEnergy=True)\n",
    "print(\"Before minimization: {}\".format(state.getPotentialEnergy()))\n",
    "mm.LocalEnergyMinimizer_minimize(context)\n",
    "state=context.getState(getEnergy=True, getPositions=True)\n",
    "print(\"After minimization: {}\".format(state.getPotentialEnergy()))"
   ]
  },
  {
   "cell_type": "code",
   "execution_count": 15,
   "metadata": {},
   "outputs": [],
   "source": [
    "positions_after_minimization = state.getPositions(asNumpy=True)"
   ]
  },
  {
   "cell_type": "code",
   "execution_count": 16,
   "metadata": {},
   "outputs": [
    {
     "data": {
      "image/png": "[encoded data removed]",
      "text/plain": [
       "<Figure size 432x288 with 1 Axes>"
      ]
     },
     "metadata": {
      "needs_background": "light"
     },
     "output_type": "display_data"
    }
   ],
   "source": [
    "ax = plt.subplot(aspect='equal')\n",
    "\n",
    "patches=[]\n",
    "for ii in range(n_particles):\n",
    "    patches.append(Circle(positions_after_minimization[ii,0:2]._value, 0.1*radius._value))\n",
    "\n",
    "p = PatchCollection(patches, alpha=0.5)\n",
    "ax.add_collection(p)\n",
    "\n",
    "ax.set_title(\"Minimized positions\")\n",
    "ax.set_xlim([0.0, 0.1*l_box._value])\n",
    "ax.set_ylim([0.0, 0.1*l_box._value])\n",
    "plt.show()"
   ]
  },
  {
   "cell_type": "code",
   "execution_count": 17,
   "metadata": {},
   "outputs": [],
   "source": [
    "#equilibration_n_steps = round(equilibration_time/integration_timestep)\n",
    "#integrator.step(equilibration_n_steps)\n",
    "#context.setTime(0.0*unit.picoseconds)"
   ]
  },
  {
   "cell_type": "code",
   "execution_count": 18,
   "metadata": {},
   "outputs": [
    {
     "name": "stderr",
     "output_type": "stream",
     "text": [
      "100%|██████████| 1000/1000 [00:02<00:00, 343.44it/s]\n"
     ]
    }
   ],
   "source": [
    "production_n_steps = int(production_time/integration_timestep)\n",
    "saving_n_steps = int(saving_time/integration_timestep)\n",
    "n_saving_periods = int(production_n_steps/saving_n_steps)\n",
    "\n",
    "time = np.zeros([n_saving_periods+1]) * unit.nanoseconds\n",
    "trajectory = np.zeros([n_saving_periods+1, n_particles, 3]) * unit.angstroms\n",
    "potential_energy = np.zeros([n_saving_periods+1]) * unit.kilocalories_per_mole\n",
    "kinetic_energy = np.zeros([n_saving_periods+1]) * unit.kilocalories_per_mole\n",
    "\n",
    "state = context.getState(getPositions=True, getEnergy=True, enforcePeriodicBox = False)\n",
    "time[0] = state.getTime()\n",
    "trajectory[0,:,:] = state.getPositions(asNumpy=True)\n",
    "potential_energy[0] = state.getPotentialEnergy()\n",
    "kinetic_energy[0] = state.getKineticEnergy()\n",
    "for ii in tqdm(range(1,n_saving_periods+1)):\n",
    "    integrator.step(saving_n_steps)\n",
    "    #remove enforcePeriodicBox to get unwrapped trajectories\n",
    "    state = context.getState(getPositions=True, getEnergy=True, enforcePeriodicBox = False)\n",
    "    time[ii] = state.getTime()\n",
    "    trajectory[ii,:,:] = state.getPositions(asNumpy=True)\n",
    "    potential_energy[ii] = state.getPotentialEnergy()\n",
    "    kinetic_energy[ii] = state.getKineticEnergy()"
   ]
  },
  {
   "cell_type": "code",
   "execution_count": 19,
   "metadata": {},
   "outputs": [
    {
     "name": "stdout",
     "output_type": "stream",
     "text": [
      "Trajectory size: 0.02291107177734375 MB\n"
     ]
    }
   ],
   "source": [
    "trajectory_mem = trajectory.size * trajectory.itemsize * unit.bytes\n",
    "print('Trajectory size: {} MB'.format(trajectory_mem._value/(1024*1024)))"
   ]
  },
  {
   "cell_type": "code",
   "execution_count": 20,
   "metadata": {},
   "outputs": [
    {
     "data": {
      "image/png": "[encoded data removed]",
      "text/plain": [
       "<Figure size 432x288 with 1 Axes>"
      ]
     },
     "metadata": {
      "needs_background": "light"
     },
     "output_type": "display_data"
    }
   ],
   "source": [
    "plt.plot(time, potential_energy)\n",
    "plt.plot(time, kinetic_energy)\n",
    "plt.show()"
   ]
  },
  {
   "cell_type": "code",
   "execution_count": null,
   "metadata": {},
   "outputs": [],
   "source": [
    "total_energy = kinetic_energy+potential_energy\n",
    "plt.plot(time, total_energy)\n",
    "plt.ylim([total_energy.min()._value-0.1, total_energy.max()._value+0.1])\n",
    "plt.show()"
   ]
  },
  {
   "cell_type": "code",
   "execution_count": null,
   "metadata": {},
   "outputs": [],
   "source": [
    "plt.plot(time[0:1000], trajectory[0:1000,:,2])\n",
    "#plt.plot(time, trajectory[:,0,1])\n",
    "#plt.plot(time, trajectory[:,0,2])\n",
    "#plt.plot(time, trajectory[:,100,0])\n",
    "#plt.plot(time, trajectory[:,100,1])\n",
    "#plt.plot(time, trajectory[:,100,2])"
   ]
  },
  {
   "cell_type": "code",
   "execution_count": null,
   "metadata": {},
   "outputs": [],
   "source": [
    "trajectory[50,0,:]"
   ]
  },
  {
   "cell_type": "code",
   "execution_count": null,
   "metadata": {},
   "outputs": [],
   "source": [
    "#fig = plt.figure()\n",
    "plt.rcParams[\"animation.html\"] = \"jshtml\"\n",
    "fig, ax = plt.subplots()\n",
    "#ax = plt.subplot(aspect='equal')\n",
    "ax.set_aspect('equal', 'box')\n",
    "ax.set_title(\"2D LJ Fluid\")\n",
    "ax.set_xlim([0.0, l_box._value])\n",
    "ax.set_ylim([0.0, l_box._value])\n",
    "\n",
    "\n",
    "frame=0\n",
    "patches=[]\n",
    "for ii in range(n_particles):\n",
    "    patches.append(Circle(trajectory[frame,ii,0:2]._value, radius._value))\n",
    "\n",
    "p = PatchCollection(patches, alpha=0.5)\n",
    "ax.add_collection(p)\n",
    "\n",
    "def animate(frame):\n",
    "\n",
    "    global trajectory, radius, p\n",
    "\n",
    "    patches=[]\n",
    "    for ii in range(n_particles): \n",
    "        patches.append(Circle(trajectory[frame,ii,0:2]._value, radius._value))\n",
    "        \n",
    "    p.set_paths(patches)\n",
    "    \n",
    "ani = animation.FuncAnimation(fig, animate, frames=trajectory.shape[0], interval=100, blit=False)\n",
    "plt.close()\n",
    "ani"
   ]
  },
  {
   "cell_type": "markdown",
   "metadata": {},
   "source": [
    "ToDo:\n",
    "\n",
    "n_particles=10, Temperature=0, "
   ]
  }
 ],
 "metadata": {
  "kernelspec": {
   "display_name": "Python 3",
   "language": "python",
   "name": "python3"
  },
  "language_info": {
   "codemirror_mode": {
    "name": "ipython",
    "version": 3
   },
   "file_extension": ".py",
   "mimetype": "text/x-python",
   "name": "python",
   "nbconvert_exporter": "python",
   "pygments_lexer": "ipython3",
   "version": "3.7.10"
  }
 },
 "nbformat": 4,
 "nbformat_minor": 4
}
