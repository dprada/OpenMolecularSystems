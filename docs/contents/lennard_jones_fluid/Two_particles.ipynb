{
 "cells": [
  {
   "cell_type": "code",
   "execution_count": 1,
   "metadata": {},
   "outputs": [],
   "source": [
    "%load_ext autoreload\n",
    "%autoreload 2"
   ]
  },
  {
   "cell_type": "code",
   "execution_count": 2,
   "metadata": {},
   "outputs": [],
   "source": [
    "import numpy as np\n",
    "import matplotlib.pyplot as plt\n",
    "import sympy as sy\n",
    "from simtk import openmm as mm\n",
    "from simtk.openmm import app\n",
    "import simtk.unit as unit"
   ]
  },
  {
   "cell_type": "markdown",
   "metadata": {},
   "source": [
    "# Two Lennard-Jones atoms in vacuum\n",
    "\n",
    "Let's take two Lennard_Jones atoms in a periodic cubic box with the following parameters:"
   ]
  },
  {
   "cell_type": "code",
   "execution_count": 3,
   "metadata": {},
   "outputs": [],
   "source": [
    "# Particle 1 with Ar atom values\n",
    "mass_1 = 39.948 * unit.amu\n",
    "sigma_1 = 3.404 * unit.angstroms\n",
    "epsilon_1 = 0.238 * unit.kilocalories_per_mole\n",
    "\n",
    "# Particle 2 with Xe atom values\n",
    "mass_2 = 131.293 * unit.amu\n",
    "sigma_2 = 3.961 * unit.angstroms\n",
    "epsilon_2 = 0.459 * unit.kilocalories_per_mole"
   ]
  },
  {
   "cell_type": "markdown",
   "metadata": {},
   "source": [
    "Construction of reduced sigma and epsilon:\n",
    "\n",
    "\\begin{equation}\n",
    "\\sigma_{red} = \\frac{\\sigma_{1}+\\sigma_{2}}{2}\n",
    "\\end{equation}\n",
    "\n",
    "\\begin{equation}\n",
    "\\epsilon_{red} = \\sqrt{\\epsilon_{1} \\epsilon_{2}}\n",
    "\\end{equation}"
   ]
  },
  {
   "cell_type": "code",
   "execution_count": 4,
   "metadata": {},
   "outputs": [],
   "source": [
    "reduced_sigma = 0.5*(sigma_1+sigma_2)\n",
    "reduced_epsilon = np.sqrt(epsilon_1*epsilon_2)"
   ]
  },
  {
   "cell_type": "markdown",
   "metadata": {},
   "source": [
    "Reduced mass of a two particles system with masses $m_1$ and $m_2$:\n",
    "\n",
    "\\begin{equation}\n",
    "m_{red} = \\frac{m_{1} * m_{2}}{m_{1} + m_{2}}\n",
    "\\end{equation}"
   ]
  },
  {
   "cell_type": "code",
   "execution_count": 5,
   "metadata": {},
   "outputs": [],
   "source": [
    "reduced_mass = (mass_1*mass_2) / (mass_1+mass_2)"
   ]
  },
  {
   "cell_type": "markdown",
   "metadata": {},
   "source": [
    "Position of minimum:\n",
    "\n",
    "\\begin{equation}\n",
    "x_{min} = 2^{1/6} \\sigma_{red}\n",
    "\\end{equation}"
   ]
  },
  {
   "cell_type": "code",
   "execution_count": 6,
   "metadata": {},
   "outputs": [],
   "source": [
    "x_min = 2**(1/6)*reduced_sigma"
   ]
  },
  {
   "cell_type": "code",
   "execution_count": 7,
   "metadata": {},
   "outputs": [
    {
     "data": {
      "text/plain": [
       "Quantity(value=4.133466492899267, unit=angstrom)"
      ]
     },
     "execution_count": 7,
     "metadata": {},
     "output_type": "execute_result"
    }
   ],
   "source": [
    "x_min"
   ]
  },
  {
   "cell_type": "markdown",
   "metadata": {},
   "source": [
    "Time period of small oscillations around the minimum:\n",
    "\n",
    "\\begin{equation}\n",
    "\\tau = \\frac{\\pi}{3·2^{1/3}} \\sqrt{\\frac{m_{red}\\sigma_{red}^2}{\\epsilon_{red}}}\n",
    "\\end{equation}"
   ]
  },
  {
   "cell_type": "code",
   "execution_count": 8,
   "metadata": {},
   "outputs": [
    {
     "name": "stdout",
     "output_type": "stream",
     "text": [
      "1.4404534295370355 ps\n"
     ]
    }
   ],
   "source": [
    "tau = (np.pi/(3*2**(1/3))) * np.sqrt((reduced_mass*reduced_sigma**2)/reduced_epsilon)\n",
    "print(tau)"
   ]
  },
  {
   "cell_type": "markdown",
   "metadata": {},
   "source": [
    "Or taking $\\tau/\\sqrt(2)$ as reference for the sake of the integration time step threshold estimation:"
   ]
  },
  {
   "cell_type": "code",
   "execution_count": 9,
   "metadata": {},
   "outputs": [
    {
     "name": "stdout",
     "output_type": "stream",
     "text": [
      "1.0185543880090564 ps\n"
     ]
    }
   ],
   "source": [
    "print(tau/np.sqrt(2))"
   ]
  },
  {
   "cell_type": "markdown",
   "metadata": {},
   "source": [
    "Potential energy surface:"
   ]
  },
  {
   "cell_type": "code",
   "execution_count": 10,
   "metadata": {},
   "outputs": [],
   "source": [
    "def LJ (x, sigma, epsilon):\n",
    "    \n",
    "    t = sigma/x\n",
    "    t6 = t**6\n",
    "    t12 = t6**2\n",
    "    \n",
    "    return 4.0*epsilon*(t12-t6)"
   ]
  },
  {
   "cell_type": "code",
   "execution_count": 11,
   "metadata": {},
   "outputs": [
    {
     "data": {
      "image/png": "[encoded data removed]",
      "text/plain": [
       "<Figure size 432x288 with 1 Axes>"
      ]
     },
     "metadata": {
      "needs_background": "light"
     },
     "output_type": "display_data"
    }
   ],
   "source": [
    "xlim_figure = [2.0, 8.0]\n",
    "ylim_figure = [-1.0, 2.0]\n",
    "\n",
    "x = np.linspace(xlim_figure[0], xlim_figure[1], 100, True) * unit.angstrom\n",
    "\n",
    "plt.plot(x, LJ(x, reduced_sigma, reduced_epsilon))\n",
    "plt.vlines(x_min._value, ylim_figure[0], ylim_figure[1], linestyles='dashed', color='gray')\n",
    "plt.xlim(xlim_figure)\n",
    "plt.ylim(ylim_figure)\n",
    "plt.xlabel('x [{}]'.format(x.unit.get_symbol()))\n",
    "plt.ylabel('V [{}]'.format(reduced_epsilon.unit.get_symbol()))\n",
    "plt.show()"
   ]
  },
  {
   "cell_type": "markdown",
   "metadata": {},
   "source": [
    "## Working with this test system\n",
    "\n",
    "This test system is fully documented in [TwoLJParticles class API](../api/_autosummary/uibcdf_test_systems.TwoLJParticles.html). Let's see an example of how to interact with it:"
   ]
  },
  {
   "cell_type": "code",
   "execution_count": 12,
   "metadata": {},
   "outputs": [],
   "source": [
    "from openmolecularsystems import TwoLJParticles\n",
    "\n",
    "coordinates=[[0.0, 0.0, 0.0], [1.0, 0.0, 0.0]]*unit.nanometers\n",
    "box=[[2.0, 0.0, 0.0], [0.0, 2.0, 0.0], [0.0, 0.0, 2.0]]*unit.nanometers\n",
    "\n",
    "# Particle 1 with Ar atom values\n",
    "mass_1 = 39.948 * unit.amu\n",
    "sigma_1 = 3.404 * unit.angstroms\n",
    "epsilon_1 = 0.238 * unit.kilocalories_per_mole\n",
    "\n",
    "# Particle 2 with Xe atom values\n",
    "mass_2 = 131.293 * unit.amu\n",
    "sigma_2 = 3.961 * unit.angstroms\n",
    "epsilon_2 = 0.459 * unit.kilocalories_per_mole\n",
    "\n",
    "open_molecular_system = TwoLJParticles(mass_1=mass_1, sigma_1=sigma_1, epsilon_1=epsilon_1,\n",
    "                                       mass_2=mass_2, sigma_2=sigma_2, epsilon_2=epsilon_2,\n",
    "                                       coordinates=coordinates, box=box)"
   ]
  },
  {
   "cell_type": "code",
   "execution_count": 13,
   "metadata": {},
   "outputs": [
    {
     "data": {
      "text/plain": [
       "{'mass_1': Quantity(value=39.948, unit=dalton),\n",
       " 'sigma_1': Quantity(value=3.404, unit=angstrom),\n",
       " 'epsilon_1': Quantity(value=0.238, unit=kilocalorie/mole),\n",
       " 'mass_2': Quantity(value=131.293, unit=dalton),\n",
       " 'sigma_2': Quantity(value=3.961, unit=angstrom),\n",
       " 'epsilon_2': Quantity(value=0.459, unit=kilocalorie/mole)}"
      ]
     },
     "execution_count": 13,
     "metadata": {},
     "output_type": "execute_result"
    }
   ],
   "source": [
    "open_molecular_system.parameters"
   ]
  },
  {
   "cell_type": "code",
   "execution_count": 14,
   "metadata": {},
   "outputs": [
    {
     "data": {
      "text/plain": [
       "Quantity(value=array([[0., 0., 0.],\n",
       "       [1., 0., 0.]]), unit=nanometer)"
      ]
     },
     "execution_count": 14,
     "metadata": {},
     "output_type": "execute_result"
    }
   ],
   "source": [
    "open_molecular_system.coordinates"
   ]
  },
  {
   "cell_type": "code",
   "execution_count": 15,
   "metadata": {},
   "outputs": [
    {
     "data": {
      "text/plain": [
       "Quantity(value=array([[2., 0., 0.],\n",
       "       [0., 2., 0.],\n",
       "       [0., 0., 2.]]), unit=nanometer)"
      ]
     },
     "execution_count": 15,
     "metadata": {},
     "output_type": "execute_result"
    }
   ],
   "source": [
    "open_molecular_system.box"
   ]
  },
  {
   "cell_type": "code",
   "execution_count": 16,
   "metadata": {},
   "outputs": [],
   "source": [
    "open_molecular_system.topology"
   ]
  },
  {
   "cell_type": "code",
   "execution_count": 17,
   "metadata": {},
   "outputs": [
    {
     "data": {
      "text/plain": [
       "<simtk.openmm.openmm.System; proxy of <Swig Object of type 'OpenMM::System *' at 0x7f6e5bbd3f90> >"
      ]
     },
     "execution_count": 17,
     "metadata": {},
     "output_type": "execute_result"
    }
   ],
   "source": [
    "open_molecular_system.system"
   ]
  },
  {
   "cell_type": "markdown",
   "metadata": {},
   "source": [
    "Let's check that the molecular system behaves as it was predicted above with the reduced mass, sigma and epsilon constants."
   ]
  },
  {
   "cell_type": "code",
   "execution_count": 18,
   "metadata": {},
   "outputs": [],
   "source": [
    "from openmolecularsystems.tools import get_potential_energy"
   ]
  },
  {
   "cell_type": "code",
   "execution_count": 19,
   "metadata": {},
   "outputs": [
    {
     "data": {
      "text/plain": [
       "Quantity(value=-0.013760010711848736, unit=kilojoule/mole)"
      ]
     },
     "execution_count": 19,
     "metadata": {},
     "output_type": "execute_result"
    }
   ],
   "source": [
    "get_potential_energy(open_molecular_system)"
   ]
  },
  {
   "cell_type": "code",
   "execution_count": 20,
   "metadata": {},
   "outputs": [],
   "source": [
    "coordinates = np.zeros([2,3], float) * unit.angstroms\n",
    "\n",
    "x = np.linspace(xlim_figure[0], xlim_figure[1], 100, True) * unit.angstrom\n",
    "V = [] * unit.kilocalories_per_mole\n",
    "\n",
    "for xi in x:\n",
    "    coordinates[1,0] = xi\n",
    "    potential_energy = get_potential_energy(open_molecular_system, coordinates=coordinates)\n",
    "    V.append(potential_energy)"
   ]
  },
  {
   "cell_type": "code",
   "execution_count": 21,
   "metadata": {},
   "outputs": [
    {
     "data": {
      "image/png": "[encoded data removed]",
      "text/plain": [
       "<Figure size 432x288 with 1 Axes>"
      ]
     },
     "metadata": {
      "needs_background": "light"
     },
     "output_type": "display_data"
    }
   ],
   "source": [
    "xlim_figure = [2.0, 8.0]\n",
    "ylim_figure = [-1.0, 2.0]\n",
    "\n",
    "V._value = np.array(V._value)\n",
    "\n",
    "plt.plot(x, LJ(x, reduced_sigma, reduced_epsilon))\n",
    "plt.plot(x, V, linewidth=2, linestyle='--', color='red')\n",
    "plt.vlines(x_min._value, ylim_figure[0], ylim_figure[1], linestyles='dashed', color='gray')\n",
    "plt.xlim(xlim_figure)\n",
    "plt.ylim(ylim_figure)\n",
    "plt.xlabel('x [{}]'.format(x.unit.get_symbol()))\n",
    "plt.ylabel('V [{}]'.format(reduced_epsilon.unit.get_symbol()))\n",
    "plt.show()"
   ]
  },
  {
   "cell_type": "code",
   "execution_count": 22,
   "metadata": {},
   "outputs": [
    {
     "data": {
      "text/plain": [
       "Quantity(value=4.133466492899267, unit=angstrom)"
      ]
     },
     "execution_count": 22,
     "metadata": {},
     "output_type": "execute_result"
    }
   ],
   "source": [
    "open_molecular_system.get_coordinates_minimum()"
   ]
  },
  {
   "cell_type": "code",
   "execution_count": 23,
   "metadata": {},
   "outputs": [
    {
     "data": {
      "text/plain": [
       "Quantity(value=1.4404534295370355, unit=picosecond)"
      ]
     },
     "execution_count": 23,
     "metadata": {},
     "output_type": "execute_result"
    }
   ],
   "source": [
    "open_molecular_system.get_small_oscillations_time_period_around_minimum()"
   ]
  },
  {
   "cell_type": "markdown",
   "metadata": {},
   "source": [
    "As final tip, there's a shortcut if the particules are real atoms such as argon and xenon. You don't need to remember or look for their sigmas and epsilons:"
   ]
  },
  {
   "cell_type": "code",
   "execution_count": 24,
   "metadata": {},
   "outputs": [],
   "source": [
    "open_molecular_system = TwoLJParticles(atom_1='Ar', atom_2='Xe', coordinates=coordinates, box=box)"
   ]
  },
  {
   "cell_type": "code",
   "execution_count": 25,
   "metadata": {},
   "outputs": [
    {
     "data": {
      "text/plain": [
       "{'mass_1': Quantity(value=39.948, unit=dalton),\n",
       " 'sigma_1': Quantity(value=3.404, unit=angstrom),\n",
       " 'epsilon_1': Quantity(value=0.238, unit=kilocalorie/mole),\n",
       " 'mass_2': Quantity(value=131.293, unit=dalton),\n",
       " 'sigma_2': Quantity(value=3.961, unit=angstrom),\n",
       " 'epsilon_2': Quantity(value=0.459, unit=kilocalorie/mole)}"
      ]
     },
     "execution_count": 25,
     "metadata": {},
     "output_type": "execute_result"
    }
   ],
   "source": [
    "open_molecular_system.parameters"
   ]
  },
  {
   "cell_type": "markdown",
   "metadata": {},
   "source": [
    "### Newtonian dynamics"
   ]
  },
  {
   "cell_type": "code",
   "execution_count": 26,
   "metadata": {},
   "outputs": [
    {
     "name": "stderr",
     "output_type": "stream",
     "text": [
      "100%|██████████| 500/500 [00:00<00:00, 2064.56it/s]\n"
     ]
    }
   ],
   "source": [
    "from openmolecularsystems.tools.md import newtonian\n",
    "\n",
    "initial_positions = np.zeros([2, 3], np.float32) * unit.nanometers\n",
    "initial_positions[1,0] = x_min +0.05 * unit.angstroms\n",
    "\n",
    "open_molecular_system.set_coordinates(initial_positions)\n",
    "\n",
    "traj_dict = newtonian(open_molecular_system, time=5.0*unit.picoseconds,\n",
    "                      saving_timestep=0.01*unit.picoseconds,\n",
    "                      integration_timestep=0.01*unit.picoseconds)"
   ]
  },
  {
   "cell_type": "code",
   "execution_count": 27,
   "metadata": {},
   "outputs": [
    {
     "data": {
      "image/png": "[encoded data removed]",
      "text/plain": [
       "<Figure size 432x288 with 1 Axes>"
      ]
     },
     "metadata": {
      "needs_background": "light"
     },
     "output_type": "display_data"
    }
   ],
   "source": [
    "distance = traj_dict['coordinates'][:,1,0]-traj_dict['coordinates'][:,0,0]\n",
    "\n",
    "plt.plot(traj_dict['time'], distance)\n",
    "axes = plt.gca()\n",
    "y_min, y_max = axes.get_ylim()\n",
    "plt.vlines(tau._value, y_min, y_max, linestyles='dashed', color='gray')\n",
    "plt.xlabel('time ({})'.format(traj_dict['time'].unit))\n",
    "plt.ylabel('Distance ({})'.format(distance.unit))\n",
    "plt.show()"
   ]
  },
  {
   "cell_type": "markdown",
   "metadata": {},
   "source": [
    "### Stochastic Dynamics\n",
    "\n",
    "Thanks to the `tools.md.langevin_NVT` method in this library, a simple newtonian dynamics can be run with few efforce:"
   ]
  },
  {
   "cell_type": "code",
   "execution_count": 28,
   "metadata": {},
   "outputs": [
    {
     "name": "stderr",
     "output_type": "stream",
     "text": [
      "100%|██████████| 1000000/1000000 [00:17<00:00, 58157.50it/s]\n"
     ]
    }
   ],
   "source": [
    "from openmolecularsystems.tools.md import langevin_NVT\n",
    "\n",
    "initial_positions = np.zeros([2, 3], np.float32) * unit.nanometers\n",
    "initial_positions[1,0] = 1.0 * unit.nanometers\n",
    "\n",
    "open_molecular_system.set_coordinates(initial_positions)\n",
    "\n",
    "traj_dict = langevin_NVT(open_molecular_system, time=10.0*unit.nanoseconds,\n",
    "                         saving_timestep=1.0*unit.picoseconds,\n",
    "                         integration_timestep=0.01*unit.picoseconds,\n",
    "                         friction=1.0/unit.picoseconds, temperature=300.0*unit.kelvin\n",
    "                         )"
   ]
  },
  {
   "cell_type": "code",
   "execution_count": 29,
   "metadata": {},
   "outputs": [
    {
     "data": {
      "image/png": "[encoded data removed]",
      "text/plain": [
       "<Figure size 432x288 with 1 Axes>"
      ]
     },
     "metadata": {
      "needs_background": "light"
     },
     "output_type": "display_data"
    }
   ],
   "source": [
    "plt.plot(traj_dict['time'], traj_dict['coordinates'][:,0,0])\n",
    "plt.plot(traj_dict['time'], traj_dict['coordinates'][:,1,0])\n",
    "plt.xlabel('time ({})'.format(traj_dict['time'].unit))\n",
    "plt.ylabel('X ({})'.format(traj_dict['coordinates'].unit))\n",
    "plt.show()"
   ]
  },
  {
   "cell_type": "markdown",
   "metadata": {},
   "source": [
    "The output coordinates are not wrapped into the periodic box, but this can be easily fixed with the library MolSysMT:"
   ]
  },
  {
   "cell_type": "code",
   "execution_count": 30,
   "metadata": {},
   "outputs": [
    {
     "ename": "ModuleNotFoundError",
     "evalue": "No module named 'pyunitwizard'",
     "output_type": "error",
     "traceback": [
      "\u001b[0;31m---------------------------------------------------------------------------\u001b[0m",
      "\u001b[0;31mModuleNotFoundError\u001b[0m                       Traceback (most recent call last)",
      "\u001b[0;32m<ipython-input-30-5ff607e37de2>\u001b[0m in \u001b[0;36m<module>\u001b[0;34m\u001b[0m\n\u001b[0;32m----> 1\u001b[0;31m \u001b[0;32mimport\u001b[0m \u001b[0mmolsysmt\u001b[0m \u001b[0;32mas\u001b[0m \u001b[0mmsm\u001b[0m\u001b[0;34m\u001b[0m\u001b[0;34m\u001b[0m\u001b[0m\n\u001b[0m\u001b[1;32m      2\u001b[0m \u001b[0;34m\u001b[0m\u001b[0m\n\u001b[1;32m      3\u001b[0m \u001b[0mtraj_dict_wrapped\u001b[0m \u001b[0;34m=\u001b[0m \u001b[0mmsm\u001b[0m\u001b[0;34m.\u001b[0m\u001b[0mwrap_to_pbc\u001b[0m\u001b[0;34m(\u001b[0m\u001b[0mtraj_dict\u001b[0m\u001b[0;34m)\u001b[0m\u001b[0;34m\u001b[0m\u001b[0;34m\u001b[0m\u001b[0m\n",
      "\u001b[0;32m~/Projects/MolSysMT/molsysmt/__init__.py\u001b[0m in \u001b[0;36m<module>\u001b[0;34m\u001b[0m\n\u001b[0;32m----> 1\u001b[0;31m \u001b[0;32mfrom\u001b[0m \u001b[0;34m.\u001b[0m\u001b[0m_pyunitwizard\u001b[0m \u001b[0;32mimport\u001b[0m \u001b[0mpuw\u001b[0m \u001b[0;32mas\u001b[0m \u001b[0mpuw\u001b[0m\u001b[0;34m\u001b[0m\u001b[0;34m\u001b[0m\u001b[0m\n\u001b[0m\u001b[1;32m      2\u001b[0m \u001b[0;34m\u001b[0m\u001b[0m\n\u001b[1;32m      3\u001b[0m \u001b[0;31m#from . import tools\u001b[0m\u001b[0;34m\u001b[0m\u001b[0;34m\u001b[0m\u001b[0;34m\u001b[0m\u001b[0m\n\u001b[1;32m      4\u001b[0m \u001b[0;34m\u001b[0m\u001b[0m\n\u001b[1;32m      5\u001b[0m \u001b[0;32mfrom\u001b[0m \u001b[0;34m.\u001b[0m \u001b[0;32mimport\u001b[0m \u001b[0mdemo_systems\u001b[0m\u001b[0;34m\u001b[0m\u001b[0;34m\u001b[0m\u001b[0m\n",
      "\u001b[0;32m~/Projects/MolSysMT/molsysmt/_pyunitwizard/__init__.py\u001b[0m in \u001b[0;36m<module>\u001b[0;34m\u001b[0m\n\u001b[0;32m----> 1\u001b[0;31m \u001b[0;32mimport\u001b[0m \u001b[0mpyunitwizard\u001b[0m \u001b[0;32mas\u001b[0m \u001b[0mpuw\u001b[0m\u001b[0;34m\u001b[0m\u001b[0;34m\u001b[0m\u001b[0m\n\u001b[0m\u001b[1;32m      2\u001b[0m \u001b[0mpuw\u001b[0m\u001b[0;34m.\u001b[0m\u001b[0mconfigure\u001b[0m\u001b[0;34m.\u001b[0m\u001b[0mload_libraries\u001b[0m\u001b[0;34m(\u001b[0m\u001b[0;34m[\u001b[0m\u001b[0;34m'pint'\u001b[0m\u001b[0;34m,\u001b[0m \u001b[0;34m'simtk.unit'\u001b[0m\u001b[0;34m]\u001b[0m\u001b[0;34m)\u001b[0m\u001b[0;34m\u001b[0m\u001b[0;34m\u001b[0m\u001b[0m\n\u001b[1;32m      3\u001b[0m \u001b[0mpuw\u001b[0m\u001b[0;34m.\u001b[0m\u001b[0mconfigure\u001b[0m\u001b[0;34m.\u001b[0m\u001b[0mset_default_form\u001b[0m\u001b[0;34m(\u001b[0m\u001b[0;34m'pint'\u001b[0m\u001b[0;34m)\u001b[0m\u001b[0;34m\u001b[0m\u001b[0;34m\u001b[0m\u001b[0m\n\u001b[1;32m      4\u001b[0m puw.configure.set_standard_units(['nm', 'ps', 'K', 'mole', 'amu', 'e',\n\u001b[1;32m      5\u001b[0m                                  'kJ/mol', 'kJ/(mol*nm**2)', 'N', 'degrees'])\n",
      "\u001b[0;31mModuleNotFoundError\u001b[0m: No module named 'pyunitwizard'"
     ]
    }
   ],
   "source": [
    "import molsysmt as msm\n",
    "\n",
    "traj_dict_wrapped = msm.wrap_to_pbc(traj_dict)"
   ]
  },
  {
   "cell_type": "markdown",
   "metadata": {},
   "source": [
    "Let's also check the evolution in time of the distance between both particles. This can also be computed with MolSysMT:"
   ]
  },
  {
   "cell_type": "code",
   "execution_count": null,
   "metadata": {},
   "outputs": [],
   "source": [
    "distance = msm.distance(traj_dict, selection=0, selection_2=0)"
   ]
  },
  {
   "cell_type": "markdown",
   "metadata": {},
   "source": [
    "-------------\n",
    "\n",
    "**Sources**\n",
    "\n",
    "http://docs.openmm.org/6.3.0/userguide/theory.html#lennard-jones-interaction\n",
    "https://openmmtools.readthedocs.io/en/0.18.1/api/generated/openmmtools.testsystems.LennardJonesPair.html\n",
    "https://openmmtools.readthedocs.io/en/latest/api/generated/openmmtools.testsystems.LennardJonesFluid.html\n",
    "https://gpantel.github.io/computational-method/LJsimulation/"
   ]
  }
 ],
 "metadata": {
  "kernelspec": {
   "display_name": "Python 3",
   "language": "python",
   "name": "python3"
  },
  "language_info": {
   "codemirror_mode": {
    "name": "ipython",
    "version": 3
   },
   "file_extension": ".py",
   "mimetype": "text/x-python",
   "name": "python",
   "nbconvert_exporter": "python",
   "pygments_lexer": "ipython3",
   "version": "3.7.10"
  }
 },
 "nbformat": 4,
 "nbformat_minor": 4
}
