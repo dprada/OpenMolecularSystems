{
 "cells": [
  {
   "cell_type": "code",
   "execution_count": 1,
   "metadata": {},
   "outputs": [],
   "source": [
    "%load_ext autoreload\n",
    "%autoreload 2"
   ]
  },
  {
   "cell_type": "code",
   "execution_count": 2,
   "metadata": {},
   "outputs": [
    {
     "data": {
      "application/vnd.jupyter.widget-view+json": {
       "model_id": "ad417e2132ae4cb0a88953090ba96e14",
       "version_major": 2,
       "version_minor": 0
      },
      "text/plain": []
     },
     "metadata": {},
     "output_type": "display_data"
    }
   ],
   "source": [
    "import numpy as np\n",
    "import matplotlib.pyplot as plt\n",
    "from simtk import unit\n",
    "from simtk import openmm as omm\n",
    "from simtk.openmm import app\n",
    "import molsysmt as msm\n",
    "from tqdm import tqdm"
   ]
  },
  {
   "cell_type": "markdown",
   "metadata": {},
   "source": [
    "# Alanine dipeptide in explicit solvent"
   ]
  },
  {
   "cell_type": "markdown",
   "metadata": {},
   "source": [
    "## With OpenMM from scratch"
   ]
  },
  {
   "cell_type": "code",
   "execution_count": 3,
   "metadata": {},
   "outputs": [],
   "source": [
    "from molecular_systems import files\n",
    "pdbfile_path = files.alanine_dipeptide['octahedral_14.pdb']"
   ]
  },
  {
   "cell_type": "code",
   "execution_count": 4,
   "metadata": {},
   "outputs": [
    {
     "data": {
      "text/html": [
       "<style  type=\"text/css\" >\n",
       "</style><table id=\"T_17a4c_\" ><thead>    <tr>        <th class=\"col_heading level0 col0\" >form</th>        <th class=\"col_heading level0 col1\" >n_atoms</th>        <th class=\"col_heading level0 col2\" >n_groups</th>        <th class=\"col_heading level0 col3\" >n_components</th>        <th class=\"col_heading level0 col4\" >n_chains</th>        <th class=\"col_heading level0 col5\" >n_molecules</th>        <th class=\"col_heading level0 col6\" >n_entities</th>        <th class=\"col_heading level0 col7\" >n_waters</th>        <th class=\"col_heading level0 col8\" >n_peptides</th>        <th class=\"col_heading level0 col9\" >n_frames</th>    </tr></thead><tbody>\n",
       "                <tr>\n",
       "                                <td id=\"T_17a4c_row0_col0\" class=\"data row0 col0\" >pdb</td>\n",
       "                        <td id=\"T_17a4c_row0_col1\" class=\"data row0 col1\" >4333</td>\n",
       "                        <td id=\"T_17a4c_row0_col2\" class=\"data row0 col2\" >1440</td>\n",
       "                        <td id=\"T_17a4c_row0_col3\" class=\"data row0 col3\" >1438</td>\n",
       "                        <td id=\"T_17a4c_row0_col4\" class=\"data row0 col4\" >1</td>\n",
       "                        <td id=\"T_17a4c_row0_col5\" class=\"data row0 col5\" >1438</td>\n",
       "                        <td id=\"T_17a4c_row0_col6\" class=\"data row0 col6\" >2</td>\n",
       "                        <td id=\"T_17a4c_row0_col7\" class=\"data row0 col7\" >1437</td>\n",
       "                        <td id=\"T_17a4c_row0_col8\" class=\"data row0 col8\" >1</td>\n",
       "                        <td id=\"T_17a4c_row0_col9\" class=\"data row0 col9\" >1</td>\n",
       "            </tr>\n",
       "    </tbody></table>"
      ],
      "text/plain": [
       "<pandas.io.formats.style.Styler at 0x7f098fc95290>"
      ]
     },
     "execution_count": 4,
     "metadata": {},
     "output_type": "execute_result"
    }
   ],
   "source": [
    "msm.info(pdbfile_path)"
   ]
  },
  {
   "cell_type": "code",
   "execution_count": 5,
   "metadata": {},
   "outputs": [
    {
     "data": {
      "application/vnd.jupyter.widget-view+json": {
       "model_id": "21c16eae854a426ab029f8581903dd24",
       "version_major": 2,
       "version_minor": 0
      },
      "text/plain": [
       "NGLWidget()"
      ]
     },
     "metadata": {},
     "output_type": "display_data"
    }
   ],
   "source": [
    "view = msm.view(pdbfile_path, surface=True)\n",
    "view"
   ]
  },
  {
   "cell_type": "code",
   "execution_count": null,
   "metadata": {},
   "outputs": [],
   "source": [
    "temperature = 300.0*unit.kelvin\n",
    "collisions_rate = 1.0/unit.picoseconds\n",
    "total_time = 2.0*unit.nanoseconds\n",
    "saving_timestep = 1.0*unit.picoseconds\n",
    "integration_timestep = 2.0*unit.femtoseconds\n",
    "\n",
    "steps_per_cicle = round(saving_timestep/integration_timestep)\n",
    "n_steps = round(total_time/integration_timestep)\n",
    "n_cicles = round(n_steps/steps_per_cicle)\n",
    "\n",
    "pdbfile = app.PDBFile(pdbfile_path)\n",
    "\n",
    "topology = pdbfile.topology\n",
    "positions = pdbfile.positions\n",
    "\n",
    "forcefield = app.ForceField('amber10.xml','amber10_obc.xml')\n",
    "\n",
    "system = forcefield.createSystem(topology, implicitSolvent=app.OBC1,\n",
    "                                 nonbondedMethod=app.NoCutoff, constraints=app.HBonds)\n",
    "\n",
    "integrator = omm.LangevinIntegrator(temperature, collisions_rate, integration_timestep)\n",
    "integrator.setConstraintTolerance(0.00001)\n",
    "\n",
    "platform = omm.Platform.getPlatformByName('CUDA')\n",
    "simulation_properties = {}\n",
    "simulation_properties['CudaPrecision']='mixed'\n",
    "\n",
    "# Context.\n",
    "\n",
    "context = omm.Context(system, integrator, platform, simulation_properties)\n",
    "context.setPositions(positions)\n",
    "\n",
    "# Energy Minimization\n",
    "omm.LocalEnergyMinimizer_minimize(context)\n",
    "\n",
    "# Initial velocities\n",
    "n_atoms = topology.getNumAtoms()\n",
    "velocities = np.zeros([n_atoms, 3], np.float32) * unit.nanometers/unit.picosecond\n",
    "context.setVelocities(velocities)\n",
    "\n",
    "# Reporter arrays: time, position, velocity, kinetic_energy, potential_energy\n",
    "\n",
    "time = np.zeros([n_cicles], np.float32) * unit.picoseconds\n",
    "trajectory = np.zeros([n_cicles, n_atoms, 3], np.float32) * unit.nanometers\n",
    "velocity = np.zeros([n_cicles, n_atoms, 3], np.float32) * unit.nanometers/unit.picosecond\n",
    "kinetic_energy = np.zeros([n_cicles], np.float32) * unit.kilocalories_per_mole\n",
    "potential_energy = np.zeros([n_cicles], np.float32) * unit.kilocalories_per_mole\n",
    "\n",
    "# Initial context in reporters\n",
    "\n",
    "state = context.getState(getPositions=True, getVelocities=True, getEnergy=True)\n",
    "time[0] = state.getTime()\n",
    "trajectory[0] = state.getPositions()\n",
    "velocity[0] = state.getVelocities()\n",
    "kinetic_energy[0] = state.getKineticEnergy()\n",
    "potential_energy[0] = state.getPotentialEnergy()\n",
    "\n",
    "# Integration loop saving every cicle steps\n",
    "\n",
    "for ii in tqdm(range(1, n_cicles)):\n",
    "    context.getIntegrator().step(steps_per_cicle)\n",
    "    state = context.getState(getPositions=True, getVelocities=True, getEnergy=True)\n",
    "    time[ii] = state.getTime()\n",
    "    trajectory[ii] = state.getPositions()\n",
    "    velocity[ii] = state.getVelocities()\n",
    "    kinetic_energy[ii] = state.getKineticEnergy()\n",
    "    potential_energy[ii] = state.getPotentialEnergy()"
   ]
  },
  {
   "cell_type": "code",
   "execution_count": null,
   "metadata": {},
   "outputs": [],
   "source": [
    "plt.plot(time, potential_energy)\n",
    "plt.show()"
   ]
  },
  {
   "cell_type": "code",
   "execution_count": null,
   "metadata": {},
   "outputs": [],
   "source": [
    "_, _, phi_values, psi_values = msm.ramachandran_angles([topology, trajectory])"
   ]
  },
  {
   "cell_type": "code",
   "execution_count": null,
   "metadata": {},
   "outputs": [],
   "source": [
    "plt.scatter(phi_values, psi_values)"
   ]
  },
  {
   "cell_type": "markdown",
   "metadata": {},
   "source": [
    "## With MolSysMT "
   ]
  },
  {
   "cell_type": "markdown",
   "metadata": {},
   "source": [
    "## With this library"
   ]
  },
  {
   "cell_type": "code",
   "execution_count": null,
   "metadata": {},
   "outputs": [],
   "source": [
    "from molecular_systems import AlanineDipeptideImplicitSolvent\n",
    "from molecular_systems.tools.md import langevin_NVT"
   ]
  },
  {
   "cell_type": "code",
   "execution_count": null,
   "metadata": {},
   "outputs": [],
   "source": [
    "dialanine=AlanineDipeptideImplicitSolvent(forcefield='AMBER10')\n",
    "\n",
    "time, trajectory, velocity, kin_energy, pot_energy = langevin_NVT(dialanine,\n",
    "                                                                  temperature = 300 * unit.kelvin,\n",
    "                                                                  friction = 1.0 / unit.picoseconds,\n",
    "                                                                  initial_positions = dialanine.coordinates,\n",
    "                                                                  integration_timestep = 2 * unit.femtoseconds,\n",
    "                                                                  saving_timestep = 1.0 * unit.picoseconds,\n",
    "                                                                  total_time = 2.0 * unit.nanoseconds)"
   ]
  },
  {
   "cell_type": "code",
   "execution_count": null,
   "metadata": {},
   "outputs": [],
   "source": [
    "_, _, phi_values, psi_values = msm.ramachandran_angles([topology, trajectory])"
   ]
  },
  {
   "cell_type": "code",
   "execution_count": null,
   "metadata": {},
   "outputs": [],
   "source": [
    "plt.scatter(phi_values, psi_values)"
   ]
  },
  {
   "cell_type": "code",
   "execution_count": null,
   "metadata": {},
   "outputs": [],
   "source": []
  }
 ],
 "metadata": {
  "kernelspec": {
   "display_name": "Python 3",
   "language": "python",
   "name": "python3"
  },
  "language_info": {
   "codemirror_mode": {
    "name": "ipython",
    "version": 3
   },
   "file_extension": ".py",
   "mimetype": "text/x-python",
   "name": "python",
   "nbconvert_exporter": "python",
   "pygments_lexer": "ipython3",
   "version": "3.7.9"
  }
 },
 "nbformat": 4,
 "nbformat_minor": 4
}
