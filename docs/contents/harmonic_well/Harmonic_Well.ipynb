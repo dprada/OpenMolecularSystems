{
 "cells": [
  {
   "cell_type": "code",
   "execution_count": 1,
   "metadata": {},
   "outputs": [],
   "source": [
    "import numpy as np\n",
    "import sympy as sy\n",
    "import matplotlib.pyplot as plt\n",
    "import simtk.openmm as mm\n",
    "import simtk.openmm.app as app\n",
    "from simtk import unit"
   ]
  },
  {
   "cell_type": "markdown",
   "metadata": {},
   "source": [
    "# Harmonic Well Potential\n",
    "\n",
    "The harmonic well potential is described by the following expression:\n",
    "\n",
    "\\begin{equation}\n",
    "f(x)=\\frac{1}{2} k \\left(x^2 + y^2 + z^2 \\right)\n",
    "\\end{equation}\n",
    "\n",
    "Where $k$ is the only parameter and represents the stiffness of the harmonic potential -or the stiffness of the harmonic spring described by the hookes' law-. Notice that the potential for potential dimensions $Y$ and $Z$, has the same shape. In this way we have a three dimensional harmonic well. But let's see here only the proyection over a single dimension $X$ since $Y$ and $Z$ are decorrelated, and there by will behave as $X$."
   ]
  },
  {
   "cell_type": "code",
   "execution_count": 2,
   "metadata": {},
   "outputs": [],
   "source": [
    "def harmonic_well(x,k):\n",
    "    return 0.5*k*x**2"
   ]
  },
  {
   "cell_type": "code",
   "execution_count": 3,
   "metadata": {},
   "outputs": [
    {
     "data": {
      "image/png": "[encoded data removed]",
      "text/plain": [
       "<Figure size 432x288 with 1 Axes>"
      ]
     },
     "metadata": {
      "needs_background": "light"
     },
     "output_type": "display_data"
    }
   ],
   "source": [
    "k=5.0 * unit.kilocalories_per_mole/ unit.nanometers**2 # stiffness of the harmonic potential\n",
    "\n",
    "x_serie = np.arange(-5., 5., 0.05) * unit.nanometers\n",
    "\n",
    "plt.plot(x_serie, harmonic_well(x_serie, k), 'r-')\n",
    "plt.ylim(-1,5)\n",
    "plt.xlim(-2,2)\n",
    "plt.grid()\n",
    "plt.xlabel(\"X ({})\".format(unit.nanometers))\n",
    "plt.ylabel(\"Energy ({})\".format(unit.kilocalories_per_mole))\n",
    "plt.title(\"Harmonic Well\")\n",
    "plt.show()"
   ]
  },
  {
   "cell_type": "markdown",
   "metadata": {},
   "source": [
    "Different values of $k$ can be tested to graphically see how this parameter accounts for the openness of the well's arms. Or, as it is described below, the period of oscillations of a particle of mass $m$ in a newtonian dynamics."
   ]
  },
  {
   "cell_type": "markdown",
   "metadata": {},
   "source": [
    "The hooks' law describes the force suffered by a mass attached to an ideal spring as:\n",
    "\n",
    "\\begin{equation}\n",
    "F(x) = -k(x-x_{0})\n",
    "\\end{equation}\n",
    "\n",
    "Where $k$ is the stiffness of the spring and $x_{0}$ is the equilibrium position. Now, since the force is minus the gradient of the potential energy $V(x)$,\n",
    "\n",
    "\\begin{equation}\n",
    "F(x) = -\\frac{d V(x)}{dx},\n",
    "\\end{equation}\n",
    "\n",
    "we can proof that the spring force is the result of the first harmonic potential derivative:\n",
    "\n",
    "\\begin{equation}\n",
    "V(x) = \\frac{1}{2} k (x-x_{0})^{2}\n",
    "\\end{equation}\n",
    "\n",
    "And the angular frequency of oscillations of a spring, or a particle goberned by the former potential, is:\n",
    "\n",
    "\\begin{equation}\n",
    "\\omega = \\sqrt{\\frac{k}{m}}\n",
    "\\end{equation}\n",
    "\n",
    "Where $m$ is the mass of the particle. This way the potential can also be written as:\n",
    "\n",
    "\\begin{equation}\n",
    "V(x) = \\frac{1}{2} k (x-x_{0})^{2} = \\frac{1}{2} m \\omega^{2} (x-x_{0})^{2}\n",
    "\\end{equation}\n",
    "\n",
    "Finnally, the time period of these oscillations are immediately computed from the mass of the particle, $m$, and the stiffness parameter $k$. Given that by definition:\n",
    "\n",
    "\\begin{equation}\n",
    "T = 2\\pi / \\omega\n",
    "\\end{equation}\n",
    "\n",
    "Then:\n",
    "\n",
    "\\begin{equation}\n",
    "T = 2\\pi \\sqrt{\\frac{m}{k}}\n",
    "\\end{equation}"
   ]
  },
  {
   "cell_type": "code",
   "execution_count": 18,
   "metadata": {},
   "outputs": [],
   "source": [
    "mass = 32 * unit.amu\n",
    "k=5.0 * unit.kilocalories_per_mole/unit.nanometers**2\n",
    "system = mm.System()\n",
    "system.addParticle(mass)\n",
    "\n",
    "force = mm.CustomExternalForce('k*(z^2)')\n",
    "force.addGlobalParameter('k', 0.5*k)\n",
    "force.addParticle(0, [])\n",
    "_ = system.addForce(force)"
   ]
  },
  {
   "cell_type": "code",
   "execution_count": 19,
   "metadata": {},
   "outputs": [],
   "source": [
    "initial_positions = np.zeros([1, 3], np.float32) * unit.nanometers\n",
    "initial_velocities = np.zeros([1, 3], np.float32) * unit.nanometers/unit.picoseconds\n",
    "initial_positions[0,:] = 1.0 * unit.nanometers\n",
    "\n",
    "integration_timestep = 0.02 * unit.picoseconds\n",
    "saving_timestep = 0.5 * unit.picoseconds\n",
    "total_time = 50 * unit.picoseconds\n",
    "\n",
    "steps_per_cicle = round(saving_timestep/integration_timestep)\n",
    "n_steps = round(total_time/integration_timestep)\n",
    "n_cicles = round(n_steps/steps_per_cicle)\n",
    "\n",
    "# Integrator\n",
    "\n",
    "temperature = 0.0*unit.kelvin\n",
    "friction = 0.0/unit.picoseconds\n",
    "integrator = mm.LangevinIntegrator(temperature, friction, integration_timestep)\n",
    "\n",
    "# Platform\n",
    "\n",
    "platform_name = 'CUDA'\n",
    "platform = mm.Platform.getPlatformByName(platform_name)\n",
    "\n",
    "# Context.\n",
    "\n",
    "context = mm.Context(system, integrator, platform)\n",
    "context.setPositions(initial_positions)\n",
    "context.setVelocities(initial_velocities)\n",
    "\n",
    "# Reporter arrays: time, position, velocity, kinetic_energy, potential_energy\n",
    "\n",
    "time = np.zeros([n_cicles], np.float32) * unit.picoseconds\n",
    "position = np.zeros([n_cicles, 1, 3], np.float32) * unit.nanometers\n",
    "velocity = np.zeros([n_cicles, 1, 3], np.float32) * unit.nanometers/unit.picosecond\n",
    "kinetic_energy = np.zeros([n_cicles], np.float32) * unit.kilocalories_per_mole\n",
    "potential_energy = np.zeros([n_cicles], np.float32) * unit.kilocalories_per_mole\n",
    "\n",
    "# Initial context in reporters\n",
    "\n",
    "state = context.getState(getPositions=True, getVelocities=True, getEnergy=True)\n",
    "time[0] = state.getTime()\n",
    "position[0] = state.getPositions()\n",
    "velocity[0] = state.getVelocities()\n",
    "kinetic_energy[0] = state.getKineticEnergy()\n",
    "potential_energy[0] = state.getPotentialEnergy()\n",
    "\n",
    "# Integration loop saving every cicle steps\n",
    "\n",
    "for ii in range(1, n_cicles):\n",
    "    context.getIntegrator().step(steps_per_cicle)\n",
    "    state = context.getState(getPositions=True, getVelocities=True, getEnergy=True)\n",
    "    time[ii] = state.getTime()\n",
    "    position[ii] = state.getPositions()\n",
    "    velocity[ii] = state.getVelocities()\n",
    "    kinetic_energy[ii] = state.getKineticEnergy()\n",
    "    potential_energy[ii] = state.getPotentialEnergy()"
   ]
  },
  {
   "cell_type": "code",
   "execution_count": 22,
   "metadata": {},
   "outputs": [
    {
     "data": {
      "image/png": "[encoded data removed]",
      "text/plain": [
       "<Figure size 432x288 with 1 Axes>"
      ]
     },
     "metadata": {
      "needs_background": "light"
     },
     "output_type": "display_data"
    }
   ],
   "source": [
    "plt.plot(time, position[:,0,2])\n",
    "plt.xlabel('time ({})'.format(time.unit))\n",
    "plt.ylabel('X ({})'.format(position.unit))\n",
    "plt.show()"
   ]
  },
  {
   "cell_type": "markdown",
   "metadata": {},
   "source": [
    "## Working with this test system\n",
    "\n",
    "This test system is fully documented in [HarmonicWell class API](../api/_autosummary/uibcdf_test_systems.HarmonicWell.html). Let's see an example of how to interact with it:"
   ]
  },
  {
   "cell_type": "code",
   "execution_count": null,
   "metadata": {},
   "outputs": [],
   "source": [
    "from openmolecularsystems import HarmonicWell\n",
    "\n",
    "harmonic_well = HarmonicWell(n_particles = 1, mass = 32 * unit.amu,\n",
    "                             k=5.0 * unit.kilocalories_per_mole/unit.nanometers**2)"
   ]
  },
  {
   "cell_type": "markdown",
   "metadata": {},
   "source": [
    "The potential expression and the value of the parameters are stored in `potential`:"
   ]
  },
  {
   "cell_type": "code",
   "execution_count": null,
   "metadata": {},
   "outputs": [],
   "source": [
    "harmonic_well.potential_expression"
   ]
  },
  {
   "cell_type": "code",
   "execution_count": null,
   "metadata": {},
   "outputs": [],
   "source": [
    "harmonic_well.parameters"
   ]
  },
  {
   "cell_type": "markdown",
   "metadata": {},
   "source": [
    "And there is a method to evaluate the potential at a given positions:"
   ]
  },
  {
   "cell_type": "code",
   "execution_count": null,
   "metadata": {},
   "outputs": [],
   "source": [
    "harmonic_well.evaluate_potential([-1.5, 0.0, 0.0] * unit.nanometers)"
   ]
  },
  {
   "cell_type": "code",
   "execution_count": null,
   "metadata": {},
   "outputs": [],
   "source": [
    "position = np.zeros((200,3), dtype=float) * unit.nanometers\n",
    "position[:,0] = np.linspace(-5., 5., 200) * unit.nanometers\n",
    "\n",
    "plt.plot(position[:,0], harmonic_well.evaluate_potential(position) , 'r-')\n",
    "plt.ylim(-1,5)\n",
    "plt.xlim(-2,2)\n",
    "plt.grid()\n",
    "plt.xlabel(\"X ({})\".format(unit.nanometers))\n",
    "plt.ylabel(\"Energy ({})\".format(unit.kilocalories_per_mole))\n",
    "plt.title(\"Harmonic Well\")\n",
    "plt.show()"
   ]
  },
  {
   "cell_type": "markdown",
   "metadata": {},
   "source": [
    "### Newtonian dynamics"
   ]
  },
  {
   "cell_type": "code",
   "execution_count": null,
   "metadata": {},
   "outputs": [],
   "source": [
    "system = harmonic_well.system\n",
    "n_particles = system.getNumParticles()\n",
    "initial_positions = np.zeros([1, 3], np.float32) * unit.nanometers\n",
    "initial_velocities = np.zeros([1, 3], np.float32) * unit.nanometers/unit.picoseconds\n",
    "initial_positions[0,0] = 1.0 * unit.nanometers\n",
    "\n",
    "integration_timestep = 0.02 * unit.picoseconds\n",
    "saving_timestep = 0.5 * unit.picoseconds\n",
    "total_time = 50 * unit.picoseconds\n",
    "\n",
    "steps_per_cicle = round(saving_timestep/integration_timestep)\n",
    "n_steps = round(total_time/integration_timestep)\n",
    "n_cicles = round(n_steps/steps_per_cicle)\n",
    "\n",
    "# Integrator\n",
    "\n",
    "temperature = 0.0*unit.kelvin\n",
    "friction = 0.0/unit.picoseconds\n",
    "integrator = mm.LangevinIntegrator(temperature, friction, integration_timestep)\n",
    "\n",
    "# Platform\n",
    "\n",
    "platform_name = 'CUDA'\n",
    "platform = mm.Platform.getPlatformByName(platform_name)\n",
    "\n",
    "# Context.\n",
    "\n",
    "context = mm.Context(system, integrator, platform)\n",
    "context.setPositions(initial_positions)\n",
    "context.setVelocities(initial_velocities)\n",
    "\n",
    "# Reporter arrays: time, position, velocity, kinetic_energy, potential_energy\n",
    "\n",
    "time = np.zeros([n_cicles], np.float32) * unit.picoseconds\n",
    "position = np.zeros([n_cicles, n_particles, 3], np.float32) * unit.nanometers\n",
    "velocity = np.zeros([n_cicles, n_particles, 3], np.float32) * unit.nanometers/unit.picosecond\n",
    "kinetic_energy = np.zeros([n_cicles], np.float32) * unit.kilocalories_per_mole\n",
    "potential_energy = np.zeros([n_cicles], np.float32) * unit.kilocalories_per_mole\n",
    "\n",
    "# Initial context in reporters\n",
    "\n",
    "state = context.getState(getPositions=True, getVelocities=True, getEnergy=True)\n",
    "time[0] = state.getTime()\n",
    "position[0] = state.getPositions()\n",
    "velocity[0] = state.getVelocities()\n",
    "kinetic_energy[0] = state.getKineticEnergy()\n",
    "potential_energy[0] = state.getPotentialEnergy()\n",
    "\n",
    "# Integration loop saving every cicle steps\n",
    "\n",
    "for ii in range(1, n_cicles):\n",
    "    context.getIntegrator().step(steps_per_cicle)\n",
    "    state = context.getState(getPositions=True, getVelocities=True, getEnergy=True)\n",
    "    time[ii] = state.getTime()\n",
    "    position[ii] = state.getPositions()\n",
    "    velocity[ii] = state.getVelocities()\n",
    "    kinetic_energy[ii] = state.getKineticEnergy()\n",
    "    potential_energy[ii] = state.getPotentialEnergy()"
   ]
  },
  {
   "cell_type": "markdown",
   "metadata": {},
   "source": [
    "We can now plot the trajectory of the x coordinate:"
   ]
  },
  {
   "cell_type": "code",
   "execution_count": null,
   "metadata": {},
   "outputs": [],
   "source": [
    "plt.plot(time, position[:,0,0])\n",
    "plt.xlabel('time ({})'.format(time.unit))\n",
    "plt.ylabel('X ({})'.format(position.unit))\n",
    "plt.show()"
   ]
  },
  {
   "cell_type": "markdown",
   "metadata": {},
   "source": [
    "We can wonder now if the period of these oscillations is in agreement with the value calculated above."
   ]
  },
  {
   "cell_type": "code",
   "execution_count": null,
   "metadata": {},
   "outputs": [],
   "source": [
    "mass = 32 * unit.amu\n",
    "T = 2*np.pi*np.sqrt(mass/k)\n",
    "\n",
    "print('The period of the small oscillations around the minimum is',T)"
   ]
  },
  {
   "cell_type": "code",
   "execution_count": null,
   "metadata": {},
   "outputs": [],
   "source": [
    "harmonic_well.get_oscillations_time_period()"
   ]
  },
  {
   "cell_type": "code",
   "execution_count": null,
   "metadata": {},
   "outputs": [],
   "source": [
    "plt.plot(time, position[:,0,0])\n",
    "plt.axvline(T._value, color='gray', linestyle='--') # Period of the harmonic oscillations\n",
    "plt.xlabel('time ({})'.format(time.unit))\n",
    "plt.ylabel('X ({})'.format(position.unit))\n",
    "plt.show()"
   ]
  },
  {
   "cell_type": "markdown",
   "metadata": {},
   "source": [
    "Remember that the integration timestep must be smaller than $\\sim T/10.0$ to guarantee that no artifacts are introduced by the timestep size."
   ]
  },
  {
   "cell_type": "markdown",
   "metadata": {},
   "source": [
    "The newtonian dynamics can also include damping. This way we can simulate damped oscillations around the minimum."
   ]
  },
  {
   "cell_type": "code",
   "execution_count": null,
   "metadata": {},
   "outputs": [],
   "source": [
    "friction = 0.25 / unit.picoseconds\n",
    "\n",
    "context.setPositions(initial_positions)\n",
    "context.setVelocities(initial_velocities)\n",
    "context.setTime(0.0*unit.picoseconds)\n",
    "\n",
    "integrator.setFriction(friction)\n",
    "\n",
    "# Reporter arrays: time, position, velocity, kinetic_energy, potential_energy\n",
    "\n",
    "time = np.zeros([n_cicles], np.float32) * unit.picoseconds\n",
    "position = np.zeros([n_cicles, n_particles, 3], np.float32) * unit.nanometers\n",
    "velocity = np.zeros([n_cicles, n_particles, 3], np.float32) * unit.nanometers/unit.picosecond\n",
    "kinetic_energy = np.zeros([n_cicles], np.float32) * unit.kilocalories_per_mole\n",
    "potential_energy = np.zeros([n_cicles], np.float32) * unit.kilocalories_per_mole\n",
    "\n",
    "# Initial context in reporters\n",
    "\n",
    "state = context.getState(getPositions=True, getVelocities=True, getEnergy=True)\n",
    "time[0] = state.getTime()\n",
    "position[0] = state.getPositions()\n",
    "velocity[0] = state.getVelocities()\n",
    "kinetic_energy[0] = state.getKineticEnergy()\n",
    "potential_energy[0] = state.getPotentialEnergy()\n",
    "\n",
    "# Integration loop saving every cicle steps\n",
    "\n",
    "for ii in range(1, n_cicles):\n",
    "    context.getIntegrator().step(steps_per_cicle)\n",
    "    state = context.getState(getPositions=True, getVelocities=True, getEnergy=True)\n",
    "    time[ii] = state.getTime()\n",
    "    position[ii] = state.getPositions()\n",
    "    velocity[ii] = state.getVelocities()\n",
    "    kinetic_energy[ii] = state.getKineticEnergy()\n",
    "    potential_energy[ii] = state.getPotentialEnergy()"
   ]
  },
  {
   "cell_type": "code",
   "execution_count": null,
   "metadata": {},
   "outputs": [],
   "source": [
    "plt.plot(time, position[:,0,0])\n",
    "plt.xlabel('time ({})'.format(time.unit))\n",
    "plt.ylabel('X ({})'.format(position.unit))\n",
    "plt.show()"
   ]
  },
  {
   "cell_type": "markdown",
   "metadata": {},
   "source": [
    "What would be the friction value needed to enter in the overdamped regime?"
   ]
  },
  {
   "cell_type": "code",
   "execution_count": null,
   "metadata": {},
   "outputs": [],
   "source": [
    "friction = 5.0 / unit.picoseconds\n",
    "\n",
    "context.setPositions(initial_positions)\n",
    "context.setVelocities(initial_velocities)\n",
    "context.setTime(0.0*unit.picoseconds)\n",
    "\n",
    "integrator.setFriction(friction)\n",
    "\n",
    "# Reporter arrays: time, position, velocity, kinetic_energy, potential_energy\n",
    "\n",
    "time = np.zeros([n_cicles], np.float32) * unit.picoseconds\n",
    "position = np.zeros([n_cicles, n_particles, 3], np.float32) * unit.nanometers\n",
    "velocity = np.zeros([n_cicles, n_particles, 3], np.float32) * unit.nanometers/unit.picosecond\n",
    "kinetic_energy = np.zeros([n_cicles], np.float32) * unit.kilocalories_per_mole\n",
    "potential_energy = np.zeros([n_cicles], np.float32) * unit.kilocalories_per_mole\n",
    "\n",
    "# Initial context in reporters\n",
    "\n",
    "state = context.getState(getPositions=True, getVelocities=True, getEnergy=True)\n",
    "time[0] = state.getTime()\n",
    "position[0] = state.getPositions()\n",
    "velocity[0] = state.getVelocities()\n",
    "kinetic_energy[0] = state.getKineticEnergy()\n",
    "potential_energy[0] = state.getPotentialEnergy()\n",
    "\n",
    "# Integration loop saving every cicle steps\n",
    "\n",
    "for ii in range(1, n_cicles):\n",
    "    context.getIntegrator().step(steps_per_cicle)\n",
    "    state = context.getState(getPositions=True, getVelocities=True, getEnergy=True)\n",
    "    time[ii] = state.getTime()\n",
    "    position[ii] = state.getPositions()\n",
    "    velocity[ii] = state.getVelocities()\n",
    "    kinetic_energy[ii] = state.getKineticEnergy()\n",
    "    potential_energy[ii] = state.getPotentialEnergy()"
   ]
  },
  {
   "cell_type": "code",
   "execution_count": null,
   "metadata": {},
   "outputs": [],
   "source": [
    "plt.plot(time, position[:,0,0])\n",
    "plt.xlabel('time ({})'.format(time.unit))\n",
    "plt.ylabel('X ({})'.format(position.unit))\n",
    "plt.show()"
   ]
  },
  {
   "cell_type": "markdown",
   "metadata": {},
   "source": [
    "### Stochastic Dynamics"
   ]
  },
  {
   "cell_type": "code",
   "execution_count": null,
   "metadata": {},
   "outputs": [],
   "source": [
    "temperature = 300 * unit.kelvin\n",
    "friction = 1.0 / unit.picoseconds\n",
    "\n",
    "integration_timestep = 0.02 * unit.picoseconds\n",
    "saving_timestep = 0.5 * unit.picoseconds\n",
    "total_time = 0.5 * unit.nanoseconds\n",
    "\n",
    "steps_per_cicle = round(saving_timestep/integration_timestep)\n",
    "n_steps = round(total_time/integration_timestep)\n",
    "n_cicles = round(n_steps/steps_per_cicle)\n",
    "\n",
    "initial_positions = np.zeros([1, 3], np.float32) * unit.nanometers\n",
    "initial_velocities = np.zeros([1, 3], np.float32) * unit.nanometers/unit.picoseconds\n",
    "initial_positions[0,0] = 1.0 * unit.nanometers\n",
    "context.setPositions(initial_positions)\n",
    "context.setVelocities(initial_velocities)\n",
    "context.setTime(0.0*unit.picoseconds)\n",
    "\n",
    "integrator.setFriction(friction)\n",
    "integrator.setTemperature(temperature)\n",
    "\n",
    "# Reporter arrays: time, position, velocity, kinetic_energy, potential_energy\n",
    "\n",
    "time = np.zeros([n_cicles], np.float32) * unit.picoseconds\n",
    "position = np.zeros([n_cicles, n_particles, 3], np.float32) * unit.nanometers\n",
    "velocity = np.zeros([n_cicles, n_particles, 3], np.float32) * unit.nanometers/unit.picosecond\n",
    "kinetic_energy = np.zeros([n_cicles], np.float32) * unit.kilocalories_per_mole\n",
    "potential_energy = np.zeros([n_cicles], np.float32) * unit.kilocalories_per_mole\n",
    "\n",
    "# Initial context in reporters\n",
    "\n",
    "state = context.getState(getPositions=True, getVelocities=True, getEnergy=True)\n",
    "time[0] = state.getTime()\n",
    "position[0] = state.getPositions()\n",
    "velocity[0] = state.getVelocities()\n",
    "kinetic_energy[0] = state.getKineticEnergy()\n",
    "potential_energy[0] = state.getPotentialEnergy()\n",
    "\n",
    "# Integration loop saving every cicle steps\n",
    "\n",
    "for ii in range(1, n_cicles):\n",
    "    context.getIntegrator().step(steps_per_cicle)\n",
    "    state = context.getState(getPositions=True, getVelocities=True, getEnergy=True)\n",
    "    time[ii] = state.getTime()\n",
    "    position[ii] = state.getPositions()\n",
    "    velocity[ii] = state.getVelocities()\n",
    "    kinetic_energy[ii] = state.getKineticEnergy()\n",
    "    potential_energy[ii] = state.getPotentialEnergy()"
   ]
  },
  {
   "cell_type": "markdown",
   "metadata": {},
   "source": [
    "Let us see the time evolution of the coordinate $x$ of our single particle:"
   ]
  },
  {
   "cell_type": "code",
   "execution_count": null,
   "metadata": {},
   "outputs": [],
   "source": [
    "plt.plot(time, position[:,0,0])\n",
    "plt.xlabel('time ({})'.format(time.unit))\n",
    "plt.ylabel('X ({})'.format(position.unit))\n",
    "plt.show()"
   ]
  },
  {
   "cell_type": "code",
   "execution_count": null,
   "metadata": {},
   "outputs": [],
   "source": [
    "harmonic_well.get_standard_deviation(temperature)"
   ]
  },
  {
   "cell_type": "code",
   "execution_count": null,
   "metadata": {},
   "outputs": [],
   "source": []
  }
 ],
 "metadata": {
  "kernelspec": {
   "display_name": "Python 3",
   "language": "python",
   "name": "python3"
  },
  "language_info": {
   "codemirror_mode": {
    "name": "ipython",
    "version": 3
   },
   "file_extension": ".py",
   "mimetype": "text/x-python",
   "name": "python",
   "nbconvert_exporter": "python",
   "pygments_lexer": "ipython3",
   "version": "3.7.10"
  }
 },
 "nbformat": 4,
 "nbformat_minor": 4
}
